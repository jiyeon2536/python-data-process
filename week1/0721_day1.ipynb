{
 "cells": [
  {
   "cell_type": "markdown",
   "metadata": {},
   "source": [
    "## 'y' : 다시 코드모드로 변경\n",
    "## 'm' : 쉘 하나가 마크다운 모드로 변경\n",
    "## 'a': 커서 기준 위에 쉘 하나 추가\n",
    "## 'b' : 커서 기준 아래에 쉘 하나 추가\n",
    "## 'dd' : 쉘 삭제\n",
    "## 'shift + enter' :실행후 커서를 아래로 이동\n",
    "## 'ctrl + enter ' : 실행 후 커서를 제자리에\n"
   ]
  },
  {
   "cell_type": "code",
   "execution_count": 17,
   "metadata": {},
   "outputs": [],
   "source": [
    "API_key = '3f6dc48aece1af142e4c823ee72e33b9'\n",
    "city_name = 'Gumi,KR'\n",
    "# 서울의 위도 경도 활용하여 데이터를 받아 왔다\n",
    "lat = 37.56\n",
    "lon = 126.97\n",
    "url = f\"https://api.openweathermap.org/data/2.5/weather?q={city_name}&appid={API_key}\""
   ]
  },
  {
   "cell_type": "code",
   "execution_count": 19,
   "metadata": {},
   "outputs": [
    {
     "data": {
      "text/plain": [
       "27.75"
      ]
     },
     "execution_count": 19,
     "metadata": {},
     "output_type": "execute_result"
    }
   ],
   "source": [
    "import requests\n",
    "# API 요청 보내기\n",
    "response = requests.get(url).json()\n",
    "response\n",
    "# 온도만 출력\n",
    "temp = response['main']['temp']\n",
    "temp -= 273.15\n",
    "temp"
   ]
  },
  {
   "cell_type": "code",
   "execution_count": 20,
   "metadata": {},
   "outputs": [
    {
     "name": "stdout",
     "output_type": "stream",
     "text": [
      "<class 'dict'>\n"
     ]
    }
   ],
   "source": [
    "response\n",
    "print(type(response))"
   ]
  },
  {
   "cell_type": "code",
   "execution_count": null,
   "metadata": {},
   "outputs": [],
   "source": []
  },
  {
   "cell_type": "code",
   "execution_count": null,
   "metadata": {},
   "outputs": [],
   "source": []
  }
 ],
 "metadata": {
  "kernelspec": {
   "display_name": "Python 3",
   "language": "python",
   "name": "python3"
  },
  "language_info": {
   "codemirror_mode": {
    "name": "ipython",
    "version": 3
   },
   "file_extension": ".py",
   "mimetype": "text/x-python",
   "name": "python",
   "nbconvert_exporter": "python",
   "pygments_lexer": "ipython3",
   "version": "3.9.13"
  },
  "orig_nbformat": 4
 },
 "nbformat": 4,
 "nbformat_minor": 2
}
